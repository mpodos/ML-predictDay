{
 "cells": [
  {
   "cell_type": "code",
   "execution_count": 81,
   "metadata": {
    "scrolled": true
   },
   "outputs": [],
   "source": [
    "import pandas as pd\n",
    "import operator"
   ]
  },
  {
   "cell_type": "code",
   "execution_count": 82,
   "metadata": {},
   "outputs": [],
   "source": [
    "def maxDay(days):\n",
    "    return max(days.items(), key=operator.itemgetter(1))[0]"
   ]
  },
  {
   "cell_type": "code",
   "execution_count": 83,
   "metadata": {},
   "outputs": [],
   "source": [
    "def writeInFile(path, array):\n",
    "    f = open(path, 'w')\n",
    "    print('id,nextvisit',file=f)\n",
    "    for idx, visitor in enumerate(array):\n",
    "        print(str(idx+1)+',',maxDay(visitor), file=f)\n",
    "    f.close()"
   ]
  },
  {
   "cell_type": "code",
   "execution_count": 84,
   "metadata": {
    "scrolled": true
   },
   "outputs": [],
   "source": [
    "def main():\n",
    "    train = pd.read_csv('train.csv')\n",
    "    visitors = []\n",
    "    for idx, visitor_id in enumerate(train['id']):\n",
    "        visitors.append({'1':0,'2':0,'3':0,'4':0,'5':0,'6':0,'7':0})\n",
    "        dates = train['visits'][idx].split(' ')[1:]\n",
    "        dates = list(map(lambda x:int(x),dates))\n",
    "        for date in dates:\n",
    "            visitors[idx][str((date-1)%7+1)]+=date\n",
    "    writeInFile('solution.csv', visitors)"
   ]
  },
  {
   "cell_type": "code",
   "execution_count": 87,
   "metadata": {},
   "outputs": [],
   "source": [
    "if __name__ == '__main__':\n",
    "    main()"
   ]
  },
  {
   "cell_type": "code",
   "execution_count": null,
   "metadata": {},
   "outputs": [],
   "source": []
  }
 ],
 "metadata": {
  "kernelspec": {
   "display_name": "Python 3",
   "language": "python",
   "name": "python3"
  },
  "language_info": {
   "codemirror_mode": {
    "name": "ipython",
    "version": 3
   },
   "file_extension": ".py",
   "mimetype": "text/x-python",
   "name": "python",
   "nbconvert_exporter": "python",
   "pygments_lexer": "ipython3",
   "version": "3.6.7"
  }
 },
 "nbformat": 4,
 "nbformat_minor": 2
}
